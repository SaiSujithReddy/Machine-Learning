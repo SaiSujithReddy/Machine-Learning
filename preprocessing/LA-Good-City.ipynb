{
 "cells": [
  {
   "cell_type": "code",
   "execution_count": 4,
   "metadata": {},
   "outputs": [
    {
     "name": "stdout",
     "output_type": "stream",
     "text": [
      "['.ipynb_checkpoints', '80-cereals.zip', 'cereal.csv', 'Lucky_Charms.ipynb', 'Untitled.ipynb']\n"
     ]
    },
    {
     "name": "stderr",
     "output_type": "stream",
     "text": [
      "Using TensorFlow backend.\n"
     ]
    }
   ],
   "source": [
    "import numpy as np # linear algebra\n",
    "import pandas as pd # data processing, CSV file I/O (e.g. pd.read_csv)\n",
    "import re\n",
    "import os\n",
    "import numpy as np\n",
    "from datetime import datetime\n",
    "from collections  import Counter\n",
    "from nltk import word_tokenize\n",
    "import seaborn as sns\n",
    "import matplotlib.pyplot as plt\n",
    "import calendar\n",
    "#from wordcloud import WordCloud ,STOPWORDS\n",
    "from nltk.stem import WordNetLemmatizer\n",
    "from sklearn.feature_extraction.text import TfidfVectorizer\n",
    "print(os.listdir(\".\"))\n",
    "from gensim.models import word2vec\n",
    "from sklearn.manifold import TSNE\n",
    "from nltk import pos_tag\n",
    "from nltk.help import upenn_tagset\n",
    "import gensim\n",
    "import matplotlib.colors as mcolors\n",
    "from nltk import jaccard_distance\n",
    "from nltk import ngrams\n",
    "#import textstat\n",
    "plt.style.use('ggplot')"
   ]
  },
  {
   "cell_type": "code",
   "execution_count": null,
   "metadata": {},
   "outputs": [],
   "source": [
    "job_title=pd.read_csv(csvfiles[0])\n",
    "sample_job=pd.read_csv(csvfiles[1])\n",
    "kaggle_data=pd.read_csv(csvfiles[2])"
   ]
  },
  {
   "cell_type": "code",
   "execution_count": 6,
   "metadata": {},
   "outputs": [],
   "source": [
    "bulletins=os.listdir(\"LA-Good-City/CityofLA/Job Bulletins/\")\n",
    "additional=os.listdir(\"LA-Good-City/CityofLA//Additional data/\")"
   ]
  },
  {
   "cell_type": "code",
   "execution_count": 7,
   "metadata": {},
   "outputs": [
    {
     "name": "stdout",
     "output_type": "stream",
     "text": [
      "job_titles.csv\n",
      "kaggle_data_dictionary.csv\n",
      "sample job class export template.csv\n"
     ]
    }
   ],
   "source": [
    "csvfiles=[]\n",
    "for file in additional:\n",
    "    if file.endswith('.csv'):\n",
    "        print(file)\n",
    "        csvfiles.append(\"LA-Good-City/CityofLA/Additional data/\"+file)\n",
    "        "
   ]
  },
  {
   "cell_type": "code",
   "execution_count": 10,
   "metadata": {},
   "outputs": [],
   "source": [
    "job_title=pd.read_csv(csvfiles[0])\n",
    "sample_job=pd.read_csv(csvfiles[1])\n",
    "kaggle_data=pd.read_csv(csvfiles[2])"
   ]
  },
  {
   "cell_type": "code",
   "execution_count": 11,
   "metadata": {},
   "outputs": [
    {
     "data": {
      "text/html": [
       "<div>\n",
       "<style>\n",
       "    .dataframe thead tr:only-child th {\n",
       "        text-align: right;\n",
       "    }\n",
       "\n",
       "    .dataframe thead th {\n",
       "        text-align: left;\n",
       "    }\n",
       "\n",
       "    .dataframe tbody tr th {\n",
       "        vertical-align: top;\n",
       "    }\n",
       "</style>\n",
       "<table border=\"1\" class=\"dataframe\">\n",
       "  <thead>\n",
       "    <tr style=\"text-align: right;\">\n",
       "      <th></th>\n",
       "      <th>311 DIRECTOR</th>\n",
       "    </tr>\n",
       "  </thead>\n",
       "  <tbody>\n",
       "    <tr>\n",
       "      <th>0</th>\n",
       "      <td>ACCOUNTANT</td>\n",
       "    </tr>\n",
       "    <tr>\n",
       "      <th>1</th>\n",
       "      <td>ACCOUNTING CLERK</td>\n",
       "    </tr>\n",
       "    <tr>\n",
       "      <th>2</th>\n",
       "      <td>ACCOUNTING RECORDS SUPERVISOR</td>\n",
       "    </tr>\n",
       "    <tr>\n",
       "      <th>3</th>\n",
       "      <td>ADMINISTRATIVE ANALYST</td>\n",
       "    </tr>\n",
       "    <tr>\n",
       "      <th>4</th>\n",
       "      <td>ADMINISTRATIVE CLERK</td>\n",
       "    </tr>\n",
       "  </tbody>\n",
       "</table>\n",
       "</div>"
      ],
      "text/plain": [
       "                    311 DIRECTOR\n",
       "0                     ACCOUNTANT\n",
       "1               ACCOUNTING CLERK\n",
       "2  ACCOUNTING RECORDS SUPERVISOR\n",
       "3         ADMINISTRATIVE ANALYST\n",
       "4           ADMINISTRATIVE CLERK"
      ]
     },
     "execution_count": 11,
     "metadata": {},
     "output_type": "execute_result"
    }
   ],
   "source": [
    "job_title.head()"
   ]
  },
  {
   "cell_type": "code",
   "execution_count": 14,
   "metadata": {},
   "outputs": [
    {
     "name": "stdout",
     "output_type": "stream",
     "text": [
      "The are 25 rows and 7 cols in sample_job file\n"
     ]
    }
   ],
   "source": [
    "print(\"The are %d rows and %d cols in sample_job file\" %(sample_job.shape))\n"
   ]
  },
  {
   "cell_type": "code",
   "execution_count": 15,
   "metadata": {},
   "outputs": [
    {
     "data": {
      "text/html": [
       "<div>\n",
       "<style>\n",
       "    .dataframe thead tr:only-child th {\n",
       "        text-align: right;\n",
       "    }\n",
       "\n",
       "    .dataframe thead th {\n",
       "        text-align: left;\n",
       "    }\n",
       "\n",
       "    .dataframe tbody tr th {\n",
       "        vertical-align: top;\n",
       "    }\n",
       "</style>\n",
       "<table border=\"1\" class=\"dataframe\">\n",
       "  <thead>\n",
       "    <tr style=\"text-align: right;\">\n",
       "      <th></th>\n",
       "      <th>FILE_NAME</th>\n",
       "      <th>JOB_CLASS_TITLE</th>\n",
       "      <th>JOB_CLASS_NO</th>\n",
       "      <th>REQUIREMENT_SET_ID</th>\n",
       "      <th>REQUIREMENT_SUBSET_ID</th>\n",
       "      <th>JOB_DUTIES</th>\n",
       "      <th>EDUCATION_YEARS</th>\n",
       "      <th>SCHOOL_TYPE</th>\n",
       "      <th>EDUCATION_MAJOR</th>\n",
       "      <th>EXPERIENCE_LENGTH</th>\n",
       "      <th>...</th>\n",
       "      <th>COURSE_LENGTH</th>\n",
       "      <th>COURSE_SUBJECT</th>\n",
       "      <th>MISC_COURSE_DETAILS</th>\n",
       "      <th>DRIVERS_LICENSE_REQ</th>\n",
       "      <th>DRIV_LIC_TYPE</th>\n",
       "      <th>ADDTL_LIC</th>\n",
       "      <th>EXAM_TYPE</th>\n",
       "      <th>ENTRY_SALARY_GEN</th>\n",
       "      <th>ENTRY_SALARY_DWP</th>\n",
       "      <th>OPEN_DATE</th>\n",
       "    </tr>\n",
       "  </thead>\n",
       "  <tbody>\n",
       "    <tr>\n",
       "      <th>0</th>\n",
       "      <td>SYSTEMS ANALYST 1596 102717.txt</td>\n",
       "      <td>Systems Analyst</td>\n",
       "      <td>1596</td>\n",
       "      <td>1</td>\n",
       "      <td>A</td>\n",
       "      <td>A Systems Analyst analyzes procedures, methods...</td>\n",
       "      <td>4.0</td>\n",
       "      <td>COLLEGE OR UNIVERSITY</td>\n",
       "      <td>COMPUTER SCIENCE|INFORMATION SYSTEMS|GEOGRAPHI...</td>\n",
       "      <td>NaN</td>\n",
       "      <td>...</td>\n",
       "      <td>NaN</td>\n",
       "      <td>NaN</td>\n",
       "      <td>NaN</td>\n",
       "      <td>NaN</td>\n",
       "      <td>NaN</td>\n",
       "      <td>NaN</td>\n",
       "      <td>OPEN_INT_PROM</td>\n",
       "      <td>68611-100307</td>\n",
       "      <td>70908-88092</td>\n",
       "      <td>10/27/17</td>\n",
       "    </tr>\n",
       "    <tr>\n",
       "      <th>1</th>\n",
       "      <td>SYSTEMS ANALYST 1596 102717.txt</td>\n",
       "      <td>Systems Analyst</td>\n",
       "      <td>1596</td>\n",
       "      <td>2</td>\n",
       "      <td>A</td>\n",
       "      <td>A Systems Analyst analyzes procedures, methods...</td>\n",
       "      <td>4.0</td>\n",
       "      <td>COLLEGE OR UNIVERSITY</td>\n",
       "      <td>NaN</td>\n",
       "      <td>2.0</td>\n",
       "      <td>...</td>\n",
       "      <td>NaN</td>\n",
       "      <td>NaN</td>\n",
       "      <td>NaN</td>\n",
       "      <td>NaN</td>\n",
       "      <td>NaN</td>\n",
       "      <td>NaN</td>\n",
       "      <td>OPEN_INT_PROM</td>\n",
       "      <td>68611-100307</td>\n",
       "      <td>70908-88092</td>\n",
       "      <td>10/27/17</td>\n",
       "    </tr>\n",
       "    <tr>\n",
       "      <th>2</th>\n",
       "      <td>SYSTEMS ANALYST 1596 102717.txt</td>\n",
       "      <td>Systems Analyst</td>\n",
       "      <td>1596</td>\n",
       "      <td>2</td>\n",
       "      <td>B</td>\n",
       "      <td>A Systems Analyst analyzes procedures, methods...</td>\n",
       "      <td>4.0</td>\n",
       "      <td>COLLEGE OR UNIVERSITY</td>\n",
       "      <td>NaN</td>\n",
       "      <td>2.0</td>\n",
       "      <td>...</td>\n",
       "      <td>NaN</td>\n",
       "      <td>NaN</td>\n",
       "      <td>NaN</td>\n",
       "      <td>NaN</td>\n",
       "      <td>NaN</td>\n",
       "      <td>NaN</td>\n",
       "      <td>OPEN_INT_PROM</td>\n",
       "      <td>68611-100307</td>\n",
       "      <td>70908-88092</td>\n",
       "      <td>10/27/17</td>\n",
       "    </tr>\n",
       "    <tr>\n",
       "      <th>3</th>\n",
       "      <td>SYSTEMS ANALYST 1596 102717.txt</td>\n",
       "      <td>Systems Analyst</td>\n",
       "      <td>1596</td>\n",
       "      <td>2</td>\n",
       "      <td>C</td>\n",
       "      <td>A Systems Analyst analyzes procedures, methods...</td>\n",
       "      <td>4.0</td>\n",
       "      <td>COLLEGE OR UNIVERSITY</td>\n",
       "      <td>NaN</td>\n",
       "      <td>2.0</td>\n",
       "      <td>...</td>\n",
       "      <td>NaN</td>\n",
       "      <td>NaN</td>\n",
       "      <td>NaN</td>\n",
       "      <td>NaN</td>\n",
       "      <td>NaN</td>\n",
       "      <td>NaN</td>\n",
       "      <td>OPEN_INT_PROM</td>\n",
       "      <td>68611-100307</td>\n",
       "      <td>70908-88092</td>\n",
       "      <td>10/27/17</td>\n",
       "    </tr>\n",
       "    <tr>\n",
       "      <th>4</th>\n",
       "      <td>SYSTEMS ANALYST 1596 102717.txt</td>\n",
       "      <td>Systems Analyst</td>\n",
       "      <td>1596</td>\n",
       "      <td>3</td>\n",
       "      <td>A</td>\n",
       "      <td>A Systems Analyst analyzes procedures, methods...</td>\n",
       "      <td>NaN</td>\n",
       "      <td>NaN</td>\n",
       "      <td>NaN</td>\n",
       "      <td>2.0</td>\n",
       "      <td>...</td>\n",
       "      <td>3M, 4Q</td>\n",
       "      <td>INFORMATION SYSTEMS|SYSTEMS ANALYSIS|closely r...</td>\n",
       "      <td>At least three of the courses must be from the...</td>\n",
       "      <td>M</td>\n",
       "      <td>NaN</td>\n",
       "      <td>NaN</td>\n",
       "      <td>OPEN_INT_PROM</td>\n",
       "      <td>68611-100307</td>\n",
       "      <td>70908-88092</td>\n",
       "      <td>10/27/17</td>\n",
       "    </tr>\n",
       "  </tbody>\n",
       "</table>\n",
       "<p>5 rows × 25 columns</p>\n",
       "</div>"
      ],
      "text/plain": [
       "                         FILE_NAME  JOB_CLASS_TITLE  JOB_CLASS_NO  \\\n",
       "0  SYSTEMS ANALYST 1596 102717.txt  Systems Analyst          1596   \n",
       "1  SYSTEMS ANALYST 1596 102717.txt  Systems Analyst          1596   \n",
       "2  SYSTEMS ANALYST 1596 102717.txt  Systems Analyst          1596   \n",
       "3  SYSTEMS ANALYST 1596 102717.txt  Systems Analyst          1596   \n",
       "4  SYSTEMS ANALYST 1596 102717.txt  Systems Analyst          1596   \n",
       "\n",
       "   REQUIREMENT_SET_ID REQUIREMENT_SUBSET_ID  \\\n",
       "0                   1                     A   \n",
       "1                   2                     A   \n",
       "2                   2                     B   \n",
       "3                   2                     C   \n",
       "4                   3                     A   \n",
       "\n",
       "                                          JOB_DUTIES  EDUCATION_YEARS  \\\n",
       "0  A Systems Analyst analyzes procedures, methods...              4.0   \n",
       "1  A Systems Analyst analyzes procedures, methods...              4.0   \n",
       "2  A Systems Analyst analyzes procedures, methods...              4.0   \n",
       "3  A Systems Analyst analyzes procedures, methods...              4.0   \n",
       "4  A Systems Analyst analyzes procedures, methods...              NaN   \n",
       "\n",
       "             SCHOOL_TYPE                                    EDUCATION_MAJOR  \\\n",
       "0  COLLEGE OR UNIVERSITY  COMPUTER SCIENCE|INFORMATION SYSTEMS|GEOGRAPHI...   \n",
       "1  COLLEGE OR UNIVERSITY                                                NaN   \n",
       "2  COLLEGE OR UNIVERSITY                                                NaN   \n",
       "3  COLLEGE OR UNIVERSITY                                                NaN   \n",
       "4                    NaN                                                NaN   \n",
       "\n",
       "   EXPERIENCE_LENGTH    ...     COURSE_LENGTH  \\\n",
       "0                NaN    ...               NaN   \n",
       "1                2.0    ...               NaN   \n",
       "2                2.0    ...               NaN   \n",
       "3                2.0    ...               NaN   \n",
       "4                2.0    ...            3M, 4Q   \n",
       "\n",
       "                                      COURSE_SUBJECT  \\\n",
       "0                                                NaN   \n",
       "1                                                NaN   \n",
       "2                                                NaN   \n",
       "3                                                NaN   \n",
       "4  INFORMATION SYSTEMS|SYSTEMS ANALYSIS|closely r...   \n",
       "\n",
       "                                 MISC_COURSE_DETAILS DRIVERS_LICENSE_REQ  \\\n",
       "0                                                NaN                 NaN   \n",
       "1                                                NaN                 NaN   \n",
       "2                                                NaN                 NaN   \n",
       "3                                                NaN                 NaN   \n",
       "4  At least three of the courses must be from the...                   M   \n",
       "\n",
       "   DRIV_LIC_TYPE ADDTL_LIC      EXAM_TYPE ENTRY_SALARY_GEN ENTRY_SALARY_DWP  \\\n",
       "0            NaN       NaN  OPEN_INT_PROM     68611-100307      70908-88092   \n",
       "1            NaN       NaN  OPEN_INT_PROM     68611-100307      70908-88092   \n",
       "2            NaN       NaN  OPEN_INT_PROM     68611-100307      70908-88092   \n",
       "3            NaN       NaN  OPEN_INT_PROM     68611-100307      70908-88092   \n",
       "4            NaN       NaN  OPEN_INT_PROM     68611-100307      70908-88092   \n",
       "\n",
       "   OPEN_DATE  \n",
       "0   10/27/17  \n",
       "1   10/27/17  \n",
       "2   10/27/17  \n",
       "3   10/27/17  \n",
       "4   10/27/17  \n",
       "\n",
       "[5 rows x 25 columns]"
      ]
     },
     "execution_count": 15,
     "metadata": {},
     "output_type": "execute_result"
    }
   ],
   "source": [
    "kaggle_data.head()"
   ]
  },
  {
   "cell_type": "code",
   "execution_count": 16,
   "metadata": {},
   "outputs": [
    {
     "name": "stdout",
     "output_type": "stream",
     "text": [
      "The are 5 rows and 25 cols in kaggle_data file\n"
     ]
    }
   ],
   "source": [
    "print(\"The are %d rows and %d cols in kaggle_data file\" %(kaggle_data.shape))"
   ]
  },
  {
   "cell_type": "code",
   "execution_count": 17,
   "metadata": {},
   "outputs": [
    {
     "name": "stdout",
     "output_type": "stream",
     "text": [
      "There are 683 text files in bulletin directory\n"
     ]
    }
   ],
   "source": [
    "print(\"There are %d text files in bulletin directory\" %len(bulletins))"
   ]
  },
  {
   "cell_type": "code",
   "execution_count": 20,
   "metadata": {
    "collapsed": true
   },
   "outputs": [],
   "source": [
    "def get_headings(bulletin):       \n",
    "    \n",
    "    \"\"\"\"function to get the headings from text file\n",
    "        takes a single argument\n",
    "        1.takes single argument list of bulletin files\"\"\"\n",
    "    \n",
    "    with open(\"LA-Good-City/CityofLA/Job Bulletins/\"+bulletins[bulletin]) as f:    ##reading text files \n",
    "        data=f.read().replace('\\t','').split('\\n')\n",
    "        data=[head for head in data if head.isupper()]\n",
    "        return data\n",
    "        \n",
    "def clean_text(bulletin):      \n",
    "    \n",
    "    \n",
    "    \"\"\"function to do basic data cleaning\n",
    "        takes a single argument\n",
    "        1.takes single argument list of bulletin files\"\"\"\n",
    "                                            \n",
    "    \n",
    "    with open(\"LA-Good-City/CityofLA/Job Bulletins/\"+bulletins[bulletin]) as f:\n",
    "        data=f.read().replace('\\t','').replace('\\n','')\n",
    "        return data"
   ]
  },
  {
   "cell_type": "code",
   "execution_count": 21,
   "metadata": {},
   "outputs": [
    {
     "data": {
      "text/plain": [
       "['ACCOUNTANT',\n",
       " 'ANNUAL SALARY',\n",
       " 'NOTES:',\n",
       " 'DUTIES',\n",
       " 'REQUIREMENT/MINIMUM QUALIFICATION',\n",
       " 'PROCESS NOTES',\n",
       " 'WHERE TO APPLY',\n",
       " 'NOTE:',\n",
       " 'APPLICATION DEADLINE',\n",
       " 'SELECTION PROCESS',\n",
       " 'NOTES:',\n",
       " 'NOTICE:',\n",
       " 'THIS EXAMINATION IS TO BE GIVEN ONLY',\n",
       " 'ON AN OPEN COMPETITIVE BASIS',\n",
       " 'AN EQUAL EMPLOYMENT OPPORTUNITY EMPLOYER']"
      ]
     },
     "execution_count": 21,
     "metadata": {},
     "output_type": "execute_result"
    }
   ],
   "source": [
    "get_headings(1)"
   ]
  },
  {
   "cell_type": "code",
   "execution_count": 22,
   "metadata": {},
   "outputs": [
    {
     "data": {
      "text/plain": [
       "['ACCOUNTING CLERK',\n",
       " 'ANNUAL SALARY',\n",
       " 'NOTE:',\n",
       " 'DUTIES',\n",
       " 'REQUIREMENT/MINIMUM QUALIFICATION',\n",
       " 'PROCESS NOTES',\n",
       " 'WHERE TO APPLY',\n",
       " 'NOTE:',\n",
       " 'APPLICATION DEADLINE',\n",
       " 'SELECTION PROCESS',\n",
       " 'NOTES:',\n",
       " 'NOTICE:',\n",
       " 'THIS EXAMINATION IS TO BE GIVEN BOTH ON AN',\n",
       " 'INTERDEPARTMENTAL PROMOTIONAL AND OPEN COMPETITIVE BASIS',\n",
       " 'AN EQUAL EMPLOYMENT OPPORTUNITY EMPLOYER']"
      ]
     },
     "execution_count": 22,
     "metadata": {},
     "output_type": "execute_result"
    }
   ],
   "source": [
    "get_headings(2)"
   ]
  },
  {
   "cell_type": "code",
   "execution_count": 24,
   "metadata": {
    "collapsed": true
   },
   "outputs": [],
   "source": [
    "\n",
    "\n",
    "\n",
    "def to_dataframe(num,df):\n",
    "    \"\"\"\"function to extract features from job bulletin text files and convert to\n",
    "    pandas dataframe.\n",
    "    function take two arguments \n",
    "                        1.the number of files to be read\n",
    "                        2.dataframe object                                      \"\"\"\n",
    "    \n",
    "\n",
    "    \n",
    "    opendate=re.compile(r'(Open [D,d]ate:)(\\s+)(\\d\\d-\\d\\d-\\d\\d)')       #match open date\n",
    "    \n",
    "    salary=re.compile(r'\\$(\\d+,\\d+)((\\s(to|and)\\s)(\\$\\d+,\\d+))?')       #match salary\n",
    "    \n",
    "    requirements=re.compile(r'(REQUIREMENTS?/\\s?MINIMUM QUALIFICATIONS?)(.*)(PROCESS NOTE)')      #match requirements\n",
    "    \n",
    "    for no in range(0,num):\n",
    "        with open(\"LA-Good-City/CityofLA/Job Bulletins/\"+bulletins[no],encoding=\"ISO-8859-1\") as f:         #reading files \n",
    "                try:\n",
    "                    file=f.read().replace('\\t','')\n",
    "                    data=file.replace('\\n','')\n",
    "                    headings=[heading for heading in file.split('\\n') if heading.isupper()]             ##getting heading from job bulletin\n",
    "\n",
    "                    sal=re.search(salary,data)\n",
    "                    date=datetime.strptime(re.search(opendate,data).group(3),'%m-%d-%y')\n",
    "                    try:\n",
    "                        req=re.search(requirements,data).group(2)\n",
    "                    except Exception as e:\n",
    "                        req=re.search('(.*)NOTES?',re.findall(r'(REQUIREMENTS?)(.*)(NOTES?)',\n",
    "                                                              data)[0][1][:1200]).group(1)\n",
    "                    \n",
    "                    duties=re.search(r'(DUTIES)(.*)(REQ[A-Z])',data).group(2)\n",
    "                    try:\n",
    "                        enddate=re.search(\n",
    "                                r'(JANUARY|FEBRUARY|MARCH|APRIL|MAY|JUNE|JULY|AUGUST|SEPTEMBER|OCTOBER|NOVEMBER|DECEMBER)\\s(\\d{1,2},\\s\\d{4})'\n",
    "                                ,data).group()\n",
    "                    except Exception as e:\n",
    "                        enddate=np.nan\n",
    "                    \n",
    "                    selection= [z[0] for z in re.findall('([A-Z][a-z]+)((\\s\\.\\s)+)',data)]     ##match selection criteria\n",
    "                    \n",
    "                    df=df.append({'File Name':bulletins[no],'Position':headings[0].lower(),'salary_start':sal.group(1),\n",
    "                               'salary_end':sal.group(5),\"opendate\":date,\"requirements\":req,'duties':duties,\n",
    "                                'deadline':enddate,'selection':selection},ignore_index=True)\n",
    "                    \n",
    "                    \n",
    "                    reg=re.compile(r'(One|Two|Three|Four|Five|Six|Seven|Eight|Nine|Ten|one|two|three|four)\\s(years?)\\s(of\\sfull(-|\\s)time)')\n",
    "                    df['EXPERIENCE_LENGTH']=df['requirements'].apply(lambda x :  re.search(reg,x).group(1) if re.search(reg,x) is not None  else np.nan)\n",
    "                    df['FULL_TIME_PART_TIME']=df['EXPERIENCE_LENGTH'].apply(lambda x:  'FULL_TIME' if x is not np.nan else np.nan )\n",
    "                    \n",
    "                    reg=re.compile(r'(One|Two|Three|Four|Five|Six|Seven|Eight|Nine|Ten|one|two|three|four)(\\s|-)(years?)\\s(college)')\n",
    "                    df['EDUCATION_YEARS']=df['requirements'].apply(lambda x :  re.search(reg,x).group(1) if re.search(reg,x) is not None  else np.nan)\n",
    "                    df['SCHOOL_TYPE']=df['EDUCATION_YEARS'].apply(lambda x : 'College or University' if x is not np.nan else np.nan)\n",
    "                    \n",
    "                except Exception as e:\n",
    "                    print('umatched sequence')\n",
    "                    \n",
    "                    \n",
    "                \n",
    "                \n",
    "        \n",
    "           \n",
    "    return df\n",
    "\n",
    "            \n",
    "            \n",
    "            \n",
    "            "
   ]
  },
  {
   "cell_type": "code",
   "execution_count": 25,
   "metadata": {},
   "outputs": [
    {
     "name": "stdout",
     "output_type": "stream",
     "text": [
      "umatched sequence\n",
      "umatched sequence\n",
      "umatched sequence\n",
      "umatched sequence\n",
      "umatched sequence\n",
      "umatched sequence\n",
      "umatched sequence\n",
      "umatched sequence\n",
      "umatched sequence\n",
      "umatched sequence\n",
      "umatched sequence\n",
      "umatched sequence\n",
      "umatched sequence\n",
      "umatched sequence\n",
      "umatched sequence\n",
      "umatched sequence\n",
      "umatched sequence\n",
      "umatched sequence\n",
      "umatched sequence\n",
      "umatched sequence\n",
      "umatched sequence\n",
      "umatched sequence\n",
      "umatched sequence\n"
     ]
    }
   ],
   "source": [
    "df=pd.DataFrame(columns=['File Name','Position',\n",
    "                         'salary_start','salary_end',\n",
    "                         'opendate','requirements',\n",
    "                         'duties','deadline'])\n",
    "df=to_dataframe(len(bulletins),df)\n",
    "df.to_csv('job class output.csv')"
   ]
  },
  {
   "cell_type": "code",
   "execution_count": null,
   "metadata": {
    "collapsed": true
   },
   "outputs": [],
   "source": [
    "#To convert some columns from a data frame to a list of dicts, we call df.to_dict( orient = 'records' ) (thanks to José P. González-Brenes for the tip):\n",
    "\n",
    "cols_to_retain = [ 'a', 'list', 'of', 'categorical', 'column', 'names' ]\n",
    "cat_dict = df[ cols_to_retain ].to_dict( orient = 'records' )\n",
    "#If you have a few categorical columns, you can list them as above. In the Analytics Edge competition, there are about 100 categorical columns, so in this case it’s easier to drop columns which are not categorical:\n",
    "\n",
    "cols_to_drop = [ 'UserID, 'YOB', 'votes', 'Happy' ]\n",
    "cat_dict = df.drop( cols_to_drop, axis = 1 ).to_dict( orient = 'records' )"
   ]
  }
 ],
 "metadata": {
  "kernelspec": {
   "display_name": "Python 3",
   "language": "python",
   "name": "python3"
  },
  "language_info": {
   "codemirror_mode": {
    "name": "ipython",
    "version": 3
   },
   "file_extension": ".py",
   "mimetype": "text/x-python",
   "name": "python",
   "nbconvert_exporter": "python",
   "pygments_lexer": "ipython3",
   "version": "3.6.1"
  }
 },
 "nbformat": 4,
 "nbformat_minor": 2
}
